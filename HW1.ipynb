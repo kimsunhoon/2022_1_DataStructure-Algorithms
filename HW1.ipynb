{
 "cells": [
  {
   "cell_type": "markdown",
   "metadata": {},
   "source": [
    "<h1>HW1</h1>"
   ]
  },
  {
   "cell_type": "markdown",
   "metadata": {},
   "source": [
    "\n",
    "<h3>Problem(1)</h3>\n",
    "\n",
    "<h5>다음의 함수들을 Big-O 표기법을 이용해 나타내시오.</h5>\n",
    "\n",
    "<ol>\n",
    "  <li>3 => <strong>O(1)</strong></li>\n",
    "  <li>11n-3 => <strong>O(n)</strong></li>\n",
    "  <li>3nlogn+n^2+8n-3 => <strong>O(n^2)</strong></li>\n",
    "  <li>3n^3logn^2 => <strong>O(n^3logn^2)</strong></li>\n",
    "  <li>4n^3+3n^2 => <strong>O(n^3)</strong></li>\n",
    "  <li>n^2logn+n => <strong>O(n^2logn)</strong></li>\n",
    "  <li>n^3+3nlogn => <strong>O(n^3)</strong></li>\n",
    "  <li>n^2+2^n => <strong>O(2^n)</strong></li>\n",
    "  <li>10^n + n^100 => <strong>O(10^n)</strong></li>\n",
    "</ol>"
   ]
  },
  {
   "cell_type": "markdown",
   "metadata": {},
   "source": [
    "\n",
    "<h3>Problem(2)</h3>\n",
    "\n",
    "<h5>입력의 크기가 n일 때 다음 알고리즘의 수행시간을 Big-Oh 표기법으로 나타내시오. (설명 필요)</h5>\n",
    "\n",
    "```\n",
    "sample(A[], n)  \n",
    "{  \n",
    "    sum1 <- 0\n",
    "    for i <- 1 to n\n",
    "        sum1 <- sum1 + A[i]\n",
    "    sum2 <- 0\n",
    "    for i <- 1 to n\n",
    "        for j <- 1 to n\n",
    "            for k <- 1 to n \n",
    "                sum2 <- sum2 + A[i] * A[j] * A[k]\n",
    "    return sum1 + sum2\n",
    "}\n",
    "```\n",
    "<p>풀이)\n",
    "<br>sample 함수를 구현할 때, sum1에 초기 값 0을 할당하고 첫 for 구문을 돈다.\n",
    "<br>다음으로 sum2에 초기 값 0을 할당하고 for 구문 루프를 3번 반복한다. for 구문이 1부터 n까지 반복된다.\n",
    "<br>결과적으로 다음 알고리즘의 시간 복잡도는 O(n^3)이다.</p>"
   ]
  },
  {
   "cell_type": "markdown",
   "metadata": {},
   "source": [
    "<h3>Problem(3)</h3>\n",
    "\n",
    "<h5>입력의 크기가 n일 때 다음 알고리즘의 수행시간을 Big-Oh 표기법으로 나타내시오. (설명 필요)</h5>\n",
    "\n",
    "```\n",
    "matrixMult(A[][], B[][], M[][], n)  \n",
    "{  \n",
    "    for i <- 1 to n\n",
    "        for j <- 1 to n\n",
    "            M[i,j] <- 0\n",
    "            for k <- 1 to n \n",
    "                M[i,j] <- M[i,j] + A[i,k] * B[k,j]\n",
    "}\n",
    "```\n",
    "<h6>Tip: 위의 A, B, M은 행렬로 M[i,j] 는 M의 i번째 행 j번째 열 원소를 나타냄.</h6>\n",
    "<br>\n",
    "<p>풀이)\n",
    "<br>matrixMult 함수에 for 구문이 3번 반복된다.\n",
    "<br>알고리즘 시간복잡도를 계산할 때 대입, 사칙연산 등의 수식은 영향력이 적다.\n",
    "<br>for 구문이 1부터 n까지 총 3번 반복된다.\n",
    "<br>결과적으로 다음 알고리즘의 시간복잡도는 O(n^3)</p>\n"
   ]
  },
  {
   "cell_type": "markdown",
   "metadata": {},
   "source": [
    "<h3>Problem(4) - Programming : 유리수 표현하기 (Rational Class)</h3>\n",
    "\n",
    "<h6>컴퓨터에서는 실수(R)와 유리수(Q)를 소수(floating point number)로 표현합니다. 그러나 컴퓨터에서는 숫자의 표현범위의 제약이 있기 때문에, 소수를 이용하여 계산할 시 종종 부정확한 결과를 가지고 오기도 합니다. <br> 이러한 배경에서 본 문제에서는 class를 이용하여 유리수를 분수로, 그 중에서도 표준형인 분수로 표현해보고자 합니다.\n",
    "<br>유리수의 표준형(norminal form) 이란 q∈Q 를 서로소(coprime, 공약수가 1 밖에 없는 두 숫자)인 분자(numerator) n과 분모(denominator) d를 사용하여 q=n/d와 같이 표현하는 것을 의미합니다. (예. 2/3는 표준형, 4/6는 표준형이 아님) 이 때, 다음의 문제를 풀어보세요.</h6>\n",
    "\n",
    "\n",
    "<li>두 수의 최대공약수(the greatest common divisor)를 찾아서 반환하는 함수 \"gcd\"를 정의해보세요.</li>\n",
    "\n",
    "  ```\n",
    "  #유클리드 호제법으로 알고리즘을 구성했다.\n",
    "  def gcd(a,b):\n",
    "  if a<b:\n",
    "    (a,b)=(b,a)\n",
    "  while b !=0:\n",
    "    (a,b)=(b,a%b)\n",
    "  return a\n",
    "  ```\n",
    "<li>위의 함수를 사용하여 유리수의 분자와 분모를 받아 서로소인 분자와 분모 n과 d를 반환(정수형으로 반환할 것)하는 함수 \"normal_form\"을 작성해보세요.</li>\n",
    "\n",
    "  ```\n",
    "  def normal_form(n,d):\n",
    "    numerator = n/gcd(n,d)\n",
    "    denominator = d/gcd(n,d)\n",
    "    return \"%d,%d\"%(numerator,denominator)\n",
    "  ```\n",
    "\n",
    "  ```\n",
    "  # test\n",
    "print(normal_form(3,2))\n",
    "print(normal_form(-15,3))\n",
    "print(normal_form(20,42))\n",
    "```"
   ]
  },
  {
   "cell_type": "code",
   "execution_count": 33,
   "metadata": {},
   "outputs": [
    {
     "name": "stdout",
     "output_type": "stream",
     "text": [
      "3,2\n",
      "5,-1\n",
      "10,21\n"
     ]
    }
   ],
   "source": [
    "def normal_form(n,d):\n",
    "  numerator = n/gcd(n,d)\n",
    "  denominator = d/gcd(n,d)\n",
    "  return \"%d,%d\"%(numerator,denominator)\n",
    "\n",
    "print(normal_form(3,2))\n",
    "print(normal_form(-15,3))\n",
    "print(normal_form(20,42))"
   ]
  },
  {
   "cell_type": "markdown",
   "metadata": {},
   "source": [
    "<li>앞에서 정의한 normal_form 함수를 이용하여 표준형으로 유리수를 저장하는 클래스 \"Rational\"을 다음의 코드를 참고하여 정의해보세요. (d 는 항상 양의 정수가 주어지는 것으로 가정합니다.)</li>\n",
    "\n",
    "```\n",
    "class Rational:\n",
    "    def __init__(self, n, d):\n",
    "        ...\n",
    "        self.numerator = ...\n",
    "        self.denominator = ...\n",
    "```\n",
    "\n"
   ]
  }
 ],
 "metadata": {
  "kernelspec": {
   "display_name": "Python 3.9.10 64-bit",
   "language": "python",
   "name": "python3"
  },
  "language_info": {
   "codemirror_mode": {
    "name": "ipython",
    "version": 3
   },
   "file_extension": ".py",
   "mimetype": "text/x-python",
   "name": "python",
   "nbconvert_exporter": "python",
   "pygments_lexer": "ipython3",
   "version": "3.9.10"
  },
  "orig_nbformat": 4,
  "vscode": {
   "interpreter": {
    "hash": "55b782b6bf741819fa146dd8226b5c390f70cbf62bad617f437c8816e01a44f6"
   }
  }
 },
 "nbformat": 4,
 "nbformat_minor": 2
}
