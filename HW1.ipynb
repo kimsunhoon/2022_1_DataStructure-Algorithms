{
 "cells": [
  {
   "cell_type": "markdown",
   "metadata": {},
   "source": [
    "<h1>HW1</h1>"
   ]
  },
  {
   "cell_type": "markdown",
   "metadata": {},
   "source": [
    "\n",
    "<h3>Problem(1)</h3>\n",
    "\n",
    "<h5>다음의 함수들을 Big-O 표기법을 이용해 나타내시오.</h5>\n",
    "\n",
    "<ol>\n",
    "  <li>3 => <strong>O(1)</strong></li>\n",
    "  <li>11n-3 => <strong>O(n)</strong></li>\n",
    "  <li>3nlogn+n^2+8n-3 => <strong>O(n^2)</strong></li>\n",
    "  <li>3n^3logn^2 => <strong>O(n^3logn^2)</strong></li>\n",
    "  <li>4n^3+3n^2 => <strong>O(n^3)</strong></li>\n",
    "  <li>n^2logn+n => <strong>O(n^2logn)</strong></li>\n",
    "  <li>n^3+3nlogn => <strong>O(n^3)</strong></li>\n",
    "  <li>n^2+2^n => <strong>O(2^n)</strong></li>\n",
    "  <li>10^n + n^100 => <strong>O(10^n)</strong></li>\n",
    "</ol>"
   ]
  },
  {
   "cell_type": "markdown",
   "metadata": {},
   "source": [
    "\n",
    "<h3>Problem(2)</h3>\n",
    "\n",
    "<h5>입력의 크기가 n일 때 다음 알고리즘의 수행시간을 T(n)으로 나타낸 뒤 Big-Oh 표기법으로 나타내시오. (설명 필요)</h5>\n",
    "\n",
    "```\n",
    "sample(A[], n)  \n",
    "{  \n",
    "    sum1 <- 0\n",
    "    for i <- 1 to n\n",
    "        sum1 <- sum1 + A[i]\n",
    "    sum2 <- 0\n",
    "    for i <- 1 to n\n",
    "        for j <- 1 to n\n",
    "            for k <- 1 to n \n",
    "                sum2 <- sum2 + A[i] * A[j] * A[k]\n",
    "    return sum1 + sum2\n",
    "}\n",
    "```\n",
    "<h6>Remark: T(n)은 답과 상이해도 됨. Big-Oh 로 표기하는 알고리즘 복잡도를 위주로 채점함.</h6>\n",
    "\n",
    "\n",
    "<p>풀이)\n",
    "<br>sample 함수를 구현할 때, sum1에 초기 값 0을 할당하고 첫 for 구문을 돈다.\n",
    "<br>다음으로 sum2에 초기 값 0을 할당하고 for 구문 루프를 3번 반복한다. 즉 시간복잡도는 O(n^3)\n",
    "<br>결과적으로 다음 알고리즘의 시간 복잡도는 O(n^3)이다.</p>"
   ]
  },
  {
   "cell_type": "markdown",
   "metadata": {},
   "source": [
    "<h3>Problem(3)</h3>\n",
    "\n",
    "<h5>입력의 크기가 n일 때 다음 알고리즘의 수행시간을 T(n) 으로 나타낸 뒤 Big-Oh 표기법으로 나타내시오. (설명 필요)</h5>\n",
    "\n",
    "```\n",
    "matrixMult(A[][], B[][], M[][], n)  \n",
    "{  \n",
    "    for i <- 1 to n\n",
    "        for j <- 1 to n\n",
    "            M[i,j] <- 0\n",
    "            for k <- 1 to n \n",
    "                M[i,j] <- M[i,j] + A[i,k] * B[k,j]\n",
    "}\n",
    "```\n",
    "<h6>Tip: 위의 A, B, M은 행렬로 M[i,j] 는 M의 i번째 행 j번째 열 원소를 나타냄.\n",
    "<br>Remark: T(n)은 답과 상이해도 됨. Big-Oh 로 표기하는 알고리즘 복잡도를 위주로 채점함.</h6>\n",
    "\n"
   ]
  }
 ],
 "metadata": {
  "kernelspec": {
   "display_name": "Python 3.9.10 64-bit",
   "language": "python",
   "name": "python3"
  },
  "language_info": {
   "codemirror_mode": {
    "name": "ipython",
    "version": 3
   },
   "file_extension": ".py",
   "mimetype": "text/x-python",
   "name": "python",
   "nbconvert_exporter": "python",
   "pygments_lexer": "ipython3",
   "version": "3.9.10"
  },
  "orig_nbformat": 4,
  "vscode": {
   "interpreter": {
    "hash": "55b782b6bf741819fa146dd8226b5c390f70cbf62bad617f437c8816e01a44f6"
   }
  }
 },
 "nbformat": 4,
 "nbformat_minor": 2
}
